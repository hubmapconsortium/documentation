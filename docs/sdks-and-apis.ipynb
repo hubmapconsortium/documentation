{
 "cells": [
  {
   "cell_type": "markdown",
   "metadata": {},
   "source": [
    "What are all the different ways that HuBMAP data can be accessed programmatically? This survey could be the basis of user-facing documentation, or it could guide efforts to align and unify resources.\n",
    "\n",
    "Scope includes:\n",
    "- HTTP APIs without Python SDK wrappers are included.\n",
    "- Config files on github included, if there's nothing better.\n",
    "\n",
    "Out of scope:\n",
    "- Code and data which are not freely available.\n",
    "- Tools that are only of use to HuBMAP developers.\n",
    "- Software libraries not in Python.\n",
    "- Bioinformatics tools for handling particular file types "
   ]
  },
  {
   "cell_type": "markdown",
   "metadata": {},
   "source": [
    "## TSV Download\n",
    "\n",
    "**Maintainer**: Harvard\n",
    "\n",
    "**Description**: Simple HTTP interface to pull entity metadata. URL queries supported.\n",
    "\n",
    "**Backing API**: Search API\n",
    "\n",
    "**Docs URL**: https://portal.hubmapconsortium.org/apis\n",
    "\n",
    "**Source URL**: https://github.com/hubmapconsortium/portal-ui/blob/main/context/app/routes_api.py#L34"
   ]
  },
  {
   "cell_type": "code",
   "execution_count": 2,
   "metadata": {},
   "outputs": [
    {
     "data": {
      "text/plain": [
       "odict_keys(['uuid', 'hubmap_id', 'acquisition_instrument_model', 'acquisition_instrument_vendor', 'analyte_class', 'assay_category', 'assay_type', 'donor.hubmap_id', 'execution_datetime', 'is_targeted', 'number_of_antibodies', 'number_of_channels', 'number_of_cycles', 'operator', 'operator_email', 'pi', 'pi_email', 'preparation_instrument_model', 'preparation_instrument_vendor', 'protocols_io_doi', 'reagent_prep_protocols_io_doi', 'resolution_x_unit', 'resolution_x_value', 'resolution_y_unit', 'resolution_y_value', 'resolution_z_unit', 'resolution_z_value', 'section_prep_protocols_io_doi'])"
      ]
     },
     "execution_count": 2,
     "metadata": {},
     "output_type": "execute_result"
    }
   ],
   "source": [
    "import csv\n",
    "import io\n",
    "import requests\n",
    "import urllib\n",
    "\n",
    "query = {'assay_type': 'CODEX'}\n",
    "url_base = 'https://portal.hubmapconsortium.org/metadata/v0/datasets.tsv'\n",
    "url_query = urllib.parse.urlencode(query)\n",
    "csv_text = requests.get(f'{url_base}?{url_query}').text\n",
    "datasets = [d for d in csv.DictReader(io.StringIO(csv_text), dialect=csv.excel_tab)]\n",
    "\n",
    "datasets[0].keys()"
   ]
  },
  {
   "cell_type": "code",
   "execution_count": 8,
   "metadata": {},
   "outputs": [
    {
     "data": {
      "text/plain": [
       "'The model number/name of the instrument used to prepare the sample for the assay'"
      ]
     },
     "execution_count": 8,
     "metadata": {},
     "output_type": "execute_result"
    }
   ],
   "source": [
    "datasets[0]['preparation_instrument_model']"
   ]
  },
  {
   "cell_type": "code",
   "execution_count": 7,
   "metadata": {},
   "outputs": [
    {
     "data": {
      "text/plain": [
       "{'prototype robot - Stanford/Nolan Lab', 'version 1 robot'}"
      ]
     },
     "execution_count": 7,
     "metadata": {},
     "output_type": "execute_result"
    }
   ],
   "source": [
    "{d['preparation_instrument_model'] for d in datasets[1:]}"
   ]
  },
  {
   "cell_type": "code",
   "execution_count": null,
   "metadata": {},
   "outputs": [],
   "source": []
  }
 ],
 "metadata": {
  "kernelspec": {
   "display_name": "Python 3",
   "language": "python",
   "name": "python3"
  },
  "language_info": {
   "codemirror_mode": {
    "name": "ipython",
    "version": 3
   },
   "file_extension": ".py",
   "mimetype": "text/x-python",
   "name": "python",
   "nbconvert_exporter": "python",
   "pygments_lexer": "ipython3",
   "version": "3.7.4"
  }
 },
 "nbformat": 4,
 "nbformat_minor": 2
}
