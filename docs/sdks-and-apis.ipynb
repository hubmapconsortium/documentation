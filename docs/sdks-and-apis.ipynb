{
 "cells": [
  {
   "cell_type": "markdown",
   "metadata": {},
   "source": [
    "What are all the different ways that HuBMAP data can be accessed programmatically? This survey could be the basis of user-facing documentation, or it could guide efforts to align and unify resources.\n",
    "\n",
    "Scope includes:\n",
    "- HTTP APIs without Python SDK wrappers are included\n",
    "- Config files on github included, if there's nothing better\n",
    "\n",
    "Out of scope:\n",
    "- Code and data which are not freely available\n",
    "- Tools that are only of use to HuBMAP developers\n",
    "- Software libraries not in Python\n",
    "- Bioinformatics tools for handling particular file types"
   ]
  },
  {
   "cell_type": "markdown",
   "metadata": {},
   "source": [
    "## TSV Download\n",
    "\n",
    "**Maintainer**: Harvard\n",
    "\n",
    "**Description**: Simple HTTP interface to pull entity metadata. URL queries supported.\n",
    "\n",
    "**Backing API**: Search API\n",
    "\n",
    "**Doc Style**: Short pargraph of MD, checked in to `portal-ui`\n",
    "\n",
    "**Doc URL**: https://portal.hubmapconsortium.org/apis\n",
    "\n",
    "**Source URL**: https://github.com/hubmapconsortium/portal-ui/blob/main/context/app/routes_api.py#L34"
   ]
  },
  {
   "cell_type": "code",
   "execution_count": 2,
   "metadata": {},
   "outputs": [
    {
     "data": {
      "text/plain": [
       "odict_keys(['uuid', 'hubmap_id', 'acquisition_instrument_model', 'acquisition_instrument_vendor', 'analyte_class', 'assay_category', 'assay_type', 'donor.hubmap_id', 'execution_datetime', 'is_targeted', 'number_of_antibodies', 'number_of_channels', 'number_of_cycles', 'operator', 'operator_email', 'pi', 'pi_email', 'preparation_instrument_model', 'preparation_instrument_vendor', 'protocols_io_doi', 'reagent_prep_protocols_io_doi', 'resolution_x_unit', 'resolution_x_value', 'resolution_y_unit', 'resolution_y_value', 'resolution_z_unit', 'resolution_z_value', 'section_prep_protocols_io_doi'])"
      ]
     },
     "execution_count": 2,
     "metadata": {},
     "output_type": "execute_result"
    }
   ],
   "source": [
    "import csv\n",
    "import io\n",
    "import requests\n",
    "import urllib\n",
    "\n",
    "query = {'assay_type': 'CODEX'}\n",
    "url_base = 'https://portal.hubmapconsortium.org/metadata/v0/datasets.tsv'\n",
    "url_query = urllib.parse.urlencode(query)\n",
    "csv_text = requests.get(f'{url_base}?{url_query}').text\n",
    "datasets = [d for d in csv.DictReader(io.StringIO(csv_text), dialect=csv.excel_tab)]\n",
    "\n",
    "datasets[0].keys()"
   ]
  },
  {
   "cell_type": "code",
   "execution_count": 8,
   "metadata": {},
   "outputs": [
    {
     "data": {
      "text/plain": [
       "'The model number/name of the instrument used to prepare the sample for the assay'"
      ]
     },
     "execution_count": 8,
     "metadata": {},
     "output_type": "execute_result"
    }
   ],
   "source": [
    "datasets[0]['preparation_instrument_model']"
   ]
  },
  {
   "cell_type": "code",
   "execution_count": 7,
   "metadata": {},
   "outputs": [
    {
     "data": {
      "text/plain": [
       "{'prototype robot - Stanford/Nolan Lab', 'version 1 robot'}"
      ]
     },
     "execution_count": 7,
     "metadata": {},
     "output_type": "execute_result"
    }
   ],
   "source": [
    "{d['preparation_instrument_model'] for d in datasets[1:]}"
   ]
  },
  {
   "cell_type": "markdown",
   "metadata": {},
   "source": [
    "## Cells SDK\n",
    "\n",
    "**AKA**: hubmap-api-py-client\n",
    "\n",
    "**Maintainer**: CMU / Harvard\n",
    "\n",
    "**Description**: Idiomatic wrapper around Cells API providing set operations and result filtering\n",
    "\n",
    "**Backing API**: https://github.com/hubmapconsortium/cross_modality_query AKA \"Cells API\"\n",
    "\n",
    "**Doc style**: Python doc tests in markdown on github\n",
    "\n",
    "**Doc URL**: https://github.com/hubmapconsortium/hubmap-api-py-client\n",
    "\n",
    "**Source URL**: https://github.com/hubmapconsortium/hubmap-api-py-client"
   ]
  },
  {
   "cell_type": "code",
   "execution_count": null,
   "metadata": {},
   "outputs": [],
   "source": [
    "%pip install hubmap-api-py-client"
   ]
  },
  {
   "cell_type": "code",
   "execution_count": null,
   "metadata": {},
   "outputs": [],
   "source": [
    "from hubmap_api_py_client import Client\n",
    "client = Client('https://cells.dev.hubmapconsortium.org/api/')\n",
    "\n",
    "gene_symbol = client.select_genes().get_list()[0]['gene_symbol']\n",
    "cells_with_gene = client.select_cells(where='gene', has=[f'{gene_symbol} > 0.5'], genomic_modality='rna')\n",
    "assert len(cells_with_gene) > 0\n",
    "\n",
    "gene_symbol\n",
    "\n",
    "# Reached out to Sean -- Not sure why it's not working."
   ]
  },
  {
   "cell_type": "markdown",
   "metadata": {},
   "source": [
    "## Entity API\n",
    "\n",
    "**Maintainer**: PSC\n",
    "\n",
    "**Description**: Wrapper around Neo4J database-of-record. It has methods for traversing the provenance graph, and can return the details for individual entities; It does not provide search functionality.\n",
    "\n",
    "**Doc Style**: Smart API; Interactive\n",
    "\n",
    "**Doc URL**: https://smart-api.info/ui/0065e419668f3336a40d1f5ab89c6ba3\n",
    "\n",
    "**Source URL**: https://github.com/hubmapconsortium/entity-api/"
   ]
  },
  {
   "cell_type": "code",
   "execution_count": 21,
   "metadata": {},
   "outputs": [
    {
     "data": {
      "text/plain": [
       "['Collection', 'Dataset', 'Donor', 'Sample', 'Upload']"
      ]
     },
     "execution_count": 21,
     "metadata": {},
     "output_type": "execute_result"
    }
   ],
   "source": [
    "import requests\n",
    "\n",
    "entity_api_url = 'https://entity.api.hubmapconsortium.org/'\n",
    "\n",
    "requests.get(f'{entity_api_url}entity-types').json()"
   ]
  },
  {
   "cell_type": "code",
   "execution_count": 25,
   "metadata": {},
   "outputs": [
    {
     "data": {
      "text/plain": [
       "'snATAC-seq (SNARE-seq2) [SnapATAC] data from the lung (right) of a 37.0-year-old black or african american male'"
      ]
     },
     "execution_count": 25,
     "metadata": {},
     "output_type": "execute_result"
    }
   ],
   "source": [
    "id = 'HBM668.QFDW.774' # UUID also supported\n",
    "entity = requests.get(f'{entity_api_url}entities/{id}').json()\n",
    "entity['title']"
   ]
  },
  {
   "cell_type": "code",
   "execution_count": 28,
   "metadata": {},
   "outputs": [
    {
     "data": {
      "text/plain": [
       "[('Dataset', '4bc9b335040544bc76d87acb189e594a'),\n",
       " ('Sample', '27997171ea74885abbd91a99cac360d9'),\n",
       " ('Sample', '6e5e5be224d88f38aa390d0c389839c7'),\n",
       " ('Sample', '0e1c2d399477b244ac006eb58918ec0c'),\n",
       " ('Donor', '4397fcd072ac96299992b47da1dbae64'),\n",
       " ('Dataset', '18f644163d1114f46dc67cc75f0a8edd'),\n",
       " ('Dataset', 'c277864db8e229bb4336428b5e1e096d'),\n",
       " ('Dataset', 'b94df37c7a261274840750d994bc42a9')]"
      ]
     },
     "execution_count": 28,
     "metadata": {},
     "output_type": "execute_result"
    }
   ],
   "source": [
    "ancestors = requests.get(f'{entity_api_url}ancestors/{id}').json()\n",
    "[(a['entity_type'], a['uuid']) for a in ancestors]"
   ]
  },
  {
   "cell_type": "markdown",
   "metadata": {},
   "source": [
    "## TODO\n",
    "\n",
    "**AKA**:\n",
    "\n",
    "**Maintainer**:\n",
    "\n",
    "**Description**:\n",
    "\n",
    "**Backing API**:\n",
    "\n",
    "**Doc Style**:\n",
    "\n",
    "**Doc URL**:\n",
    "\n",
    "**Source URL**:"
   ]
  },
  {
   "cell_type": "markdown",
   "metadata": {},
   "source": [
    "## TODO\n",
    "\n",
    "**AKA**:\n",
    "\n",
    "**Maintainer**:\n",
    "\n",
    "**Description**:\n",
    "\n",
    "**Backing API**:\n",
    "\n",
    "**Doc Style**:\n",
    "\n",
    "**Doc URL**:\n",
    "\n",
    "**Source URL**:"
   ]
  },
  {
   "cell_type": "code",
   "execution_count": null,
   "metadata": {},
   "outputs": [],
   "source": []
  }
 ],
 "metadata": {
  "kernelspec": {
   "display_name": "Python 3",
   "language": "python",
   "name": "python3"
  },
  "language_info": {
   "codemirror_mode": {
    "name": "ipython",
    "version": 3
   },
   "file_extension": ".py",
   "mimetype": "text/x-python",
   "name": "python",
   "nbconvert_exporter": "python",
   "pygments_lexer": "ipython3",
   "version": "3.7.4"
  }
 },
 "nbformat": 4,
 "nbformat_minor": 2
}
