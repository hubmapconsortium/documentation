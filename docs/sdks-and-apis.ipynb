{
 "cells": [
  {
   "cell_type": "markdown",
   "metadata": {},
   "source": [
    "What are all the different ways that HuBMAP data can be accessed programmatically? This survey could be the basis of user-facing documentation, or it could guide efforts to align and unify resources.\n",
    "\n",
    "Scope includes:\n",
    "- HTTP APIs without Python SDK wrappers are included\n",
    "- Config files on github included, if there's nothing better\n",
    "\n",
    "Out of scope:\n",
    "- Code and data which are not freely available\n",
    "- Tools that are only of use to HuBMAP developers\n",
    "- Software libraries not in Python\n",
    "- Bioinformatics tools for handling particular file types"
   ]
  },
  {
   "cell_type": "markdown",
   "metadata": {},
   "source": [
    "## TSV Download\n",
    "\n",
    "**Maintainer**: Harvard\n",
    "\n",
    "**Description**: Simple HTTP interface to pull entity metadata. URL queries supported.\n",
    "\n",
    "**Backing API**: Search API\n",
    "\n",
    "**Doc Style**: Short pargraph of MD, checked in to `portal-ui`\n",
    "\n",
    "**Doc URL**: https://portal.hubmapconsortium.org/apis\n",
    "\n",
    "**Source URL**: https://github.com/hubmapconsortium/portal-ui/blob/main/context/app/routes_api.py#L34"
   ]
  },
  {
   "cell_type": "code",
   "execution_count": 2,
   "metadata": {},
   "outputs": [
    {
     "data": {
      "text/plain": [
       "odict_keys(['uuid', 'hubmap_id', 'acquisition_instrument_model', 'acquisition_instrument_vendor', 'analyte_class', 'assay_category', 'assay_type', 'donor.hubmap_id', 'execution_datetime', 'is_targeted', 'number_of_antibodies', 'number_of_channels', 'number_of_cycles', 'operator', 'operator_email', 'pi', 'pi_email', 'preparation_instrument_model', 'preparation_instrument_vendor', 'protocols_io_doi', 'reagent_prep_protocols_io_doi', 'resolution_x_unit', 'resolution_x_value', 'resolution_y_unit', 'resolution_y_value', 'resolution_z_unit', 'resolution_z_value', 'section_prep_protocols_io_doi'])"
      ]
     },
     "execution_count": 2,
     "metadata": {},
     "output_type": "execute_result"
    }
   ],
   "source": [
    "import csv\n",
    "import io\n",
    "import requests\n",
    "import urllib\n",
    "\n",
    "query = {'assay_type': 'CODEX'}\n",
    "url_base = 'https://portal.hubmapconsortium.org/metadata/v0/datasets.tsv'\n",
    "url_query = urllib.parse.urlencode(query)\n",
    "csv_text = requests.get(f'{url_base}?{url_query}').text\n",
    "datasets = [d for d in csv.DictReader(io.StringIO(csv_text), dialect=csv.excel_tab)]\n",
    "\n",
    "datasets[0].keys()"
   ]
  },
  {
   "cell_type": "code",
   "execution_count": 8,
   "metadata": {},
   "outputs": [
    {
     "data": {
      "text/plain": [
       "'The model number/name of the instrument used to prepare the sample for the assay'"
      ]
     },
     "execution_count": 8,
     "metadata": {},
     "output_type": "execute_result"
    }
   ],
   "source": [
    "datasets[0]['preparation_instrument_model']"
   ]
  },
  {
   "cell_type": "code",
   "execution_count": 7,
   "metadata": {},
   "outputs": [
    {
     "data": {
      "text/plain": [
       "{'prototype robot - Stanford/Nolan Lab', 'version 1 robot'}"
      ]
     },
     "execution_count": 7,
     "metadata": {},
     "output_type": "execute_result"
    }
   ],
   "source": [
    "{d['preparation_instrument_model'] for d in datasets[1:]}"
   ]
  },
  {
   "cell_type": "markdown",
   "metadata": {},
   "source": [
    "## Cells SDK\n",
    "\n",
    "**AKA**: hubmap-api-py-client\n",
    "\n",
    "**Maintainer**: CMU / Harvard\n",
    "\n",
    "**Description**: Idiomatic wrapper around Cells API providing set operations and result filtering\n",
    "\n",
    "**Backing API**: https://github.com/hubmapconsortium/cross_modality_query AKA \"Cells API\"\n",
    "\n",
    "**Doc style**: Python doc tests in markdown on github\n",
    "\n",
    "**Doc URL**: https://github.com/hubmapconsortium/hubmap-api-py-client\n",
    "\n",
    "**Source URL**: https://github.com/hubmapconsortium/hubmap-api-py-client"
   ]
  },
  {
   "cell_type": "code",
   "execution_count": null,
   "metadata": {},
   "outputs": [],
   "source": [
    "%pip install hubmap-api-py-client"
   ]
  },
  {
   "cell_type": "code",
   "execution_count": 33,
   "metadata": {},
   "outputs": [
    {
     "name": "stdout",
     "output_type": "stream",
     "text": [
      "A1BG 10584\n"
     ]
    }
   ],
   "source": [
    "from hubmap_api_py_client import Client\n",
    "client = Client('https://cells.dev.hubmapconsortium.org/api/')\n",
    "\n",
    "# Examples in docs are currently broken: Sean suggested this fix.\n",
    "gene_symbol = client.select_genes(where=\"modality\", has=[\"rna\"]).get_list()[0]['gene_symbol']\n",
    "cells_with_gene = client.select_cells(where='gene', has=[f'{gene_symbol} > 0.5'], genomic_modality='rna')\n",
    "\n",
    "print(gene_symbol, len(cells_with_gene))"
   ]
  },
  {
   "cell_type": "code",
   "execution_count": 36,
   "metadata": {},
   "outputs": [
    {
     "name": "stdout",
     "output_type": "stream",
     "text": [
      "01d94c78c858b9944b4bbdd5b273c2bd 046251c94ea0e79ee935dd3de57e093c\n",
      "<CellResultsSet base_url=https://cells.dev.hubmapconsortium.org/api/ handle=2a0f7c4ca147eb367c7808b862f93e0f730935b7709198cbb1e9060cd0cfd1d9>\n"
     ]
    },
    {
     "ename": "ClientError",
     "evalue": "unsupported operand type(s) for &: 'tuple' and 'tuple'",
     "output_type": "error",
     "traceback": [
      "\u001b[0;31m---------------------------------------------------------------------------\u001b[0m",
      "\u001b[0;31mClientError\u001b[0m                               Traceback (most recent call last)",
      "\u001b[0;32m<ipython-input-36-738202109f47>\u001b[0m in \u001b[0;36m<module>\u001b[0;34m\u001b[0m\n\u001b[1;32m      6\u001b[0m \u001b[0mprint\u001b[0m\u001b[0;34m(\u001b[0m\u001b[0mcells_in_datasets\u001b[0m\u001b[0;34m)\u001b[0m\u001b[0;34m\u001b[0m\u001b[0;34m\u001b[0m\u001b[0m\n\u001b[1;32m      7\u001b[0m \u001b[0;34m\u001b[0m\u001b[0m\n\u001b[0;32m----> 8\u001b[0;31m \u001b[0mcells_with_gene_in_datasets\u001b[0m \u001b[0;34m=\u001b[0m \u001b[0mcells_with_gene\u001b[0m \u001b[0;34m&\u001b[0m \u001b[0mcells_in_datasets\u001b[0m\u001b[0;34m\u001b[0m\u001b[0;34m\u001b[0m\u001b[0m\n\u001b[0m",
      "\u001b[0;32m/opt/anaconda3/lib/python3.7/site-packages/hubmap_api_py_client/external.py\u001b[0m in \u001b[0;36m__and__\u001b[0;34m(self, other_set)\u001b[0m\n\u001b[1;32m     65\u001b[0m \u001b[0;34m\u001b[0m\u001b[0m\n\u001b[1;32m     66\u001b[0m     \u001b[0;32mdef\u001b[0m \u001b[0m__and__\u001b[0m\u001b[0;34m(\u001b[0m\u001b[0mself\u001b[0m\u001b[0;34m,\u001b[0m \u001b[0mother_set\u001b[0m\u001b[0;34m)\u001b[0m\u001b[0;34m:\u001b[0m\u001b[0;34m\u001b[0m\u001b[0;34m\u001b[0m\u001b[0m\n\u001b[0;32m---> 67\u001b[0;31m         \u001b[0;32mreturn\u001b[0m \u001b[0mself\u001b[0m\u001b[0;34m.\u001b[0m\u001b[0m_operation\u001b[0m\u001b[0;34m(\u001b[0m\u001b[0mother_set\u001b[0m\u001b[0;34m,\u001b[0m \u001b[0mself\u001b[0m\u001b[0;34m.\u001b[0m\u001b[0mclient\u001b[0m\u001b[0;34m.\u001b[0m\u001b[0mset_intersection\u001b[0m\u001b[0;34m)\u001b[0m\u001b[0;34m\u001b[0m\u001b[0;34m\u001b[0m\u001b[0m\n\u001b[0m\u001b[1;32m     68\u001b[0m \u001b[0;34m\u001b[0m\u001b[0m\n\u001b[1;32m     69\u001b[0m     \u001b[0;32mdef\u001b[0m \u001b[0m__sub__\u001b[0m\u001b[0;34m(\u001b[0m\u001b[0mself\u001b[0m\u001b[0;34m,\u001b[0m \u001b[0mother_set\u001b[0m\u001b[0;34m)\u001b[0m\u001b[0;34m:\u001b[0m\u001b[0;34m\u001b[0m\u001b[0;34m\u001b[0m\u001b[0m\n",
      "\u001b[0;32m/opt/anaconda3/lib/python3.7/site-packages/hubmap_api_py_client/external.py\u001b[0m in \u001b[0;36m_operation\u001b[0;34m(self, other_set, method)\u001b[0m\n\u001b[1;32m     71\u001b[0m \u001b[0;34m\u001b[0m\u001b[0m\n\u001b[1;32m     72\u001b[0m     \u001b[0;32mdef\u001b[0m \u001b[0m_operation\u001b[0m\u001b[0;34m(\u001b[0m\u001b[0mself\u001b[0m\u001b[0;34m,\u001b[0m \u001b[0mother_set\u001b[0m\u001b[0;34m,\u001b[0m \u001b[0mmethod\u001b[0m\u001b[0;34m)\u001b[0m\u001b[0;34m:\u001b[0m\u001b[0;34m\u001b[0m\u001b[0;34m\u001b[0m\u001b[0m\n\u001b[0;32m---> 73\u001b[0;31m         \u001b[0mnew_handle\u001b[0m \u001b[0;34m=\u001b[0m \u001b[0mmethod\u001b[0m\u001b[0;34m(\u001b[0m\u001b[0mself\u001b[0m\u001b[0;34m.\u001b[0m\u001b[0mhandle\u001b[0m\u001b[0;34m,\u001b[0m \u001b[0mother_set\u001b[0m\u001b[0;34m.\u001b[0m\u001b[0mhandle\u001b[0m\u001b[0;34m,\u001b[0m \u001b[0mself\u001b[0m\u001b[0;34m.\u001b[0m\u001b[0moutput_type\u001b[0m\u001b[0;34m)\u001b[0m\u001b[0;34m\u001b[0m\u001b[0;34m\u001b[0m\u001b[0m\n\u001b[0m\u001b[1;32m     74\u001b[0m         return ResultsSet(\n\u001b[1;32m     75\u001b[0m             \u001b[0mself\u001b[0m\u001b[0;34m.\u001b[0m\u001b[0mclient\u001b[0m\u001b[0;34m,\u001b[0m \u001b[0mnew_handle\u001b[0m\u001b[0;34m,\u001b[0m\u001b[0;34m\u001b[0m\u001b[0;34m\u001b[0m\u001b[0m\n",
      "\u001b[0;32m/opt/anaconda3/lib/python3.7/site-packages/hubmap_api_py_client/internal.py\u001b[0m in \u001b[0;36mset_intersection\u001b[0;34m(self, set_key_one, set_key_two, set_type)\u001b[0m\n\u001b[1;32m     35\u001b[0m     def set_intersection(\n\u001b[1;32m     36\u001b[0m             self, set_key_one: str, set_key_two: str, set_type: str) -> str:\n\u001b[0;32m---> 37\u001b[0;31m         \u001b[0;32mreturn\u001b[0m \u001b[0mself\u001b[0m\u001b[0;34m.\u001b[0m\u001b[0m_operation\u001b[0m\u001b[0;34m(\u001b[0m\u001b[0mset_key_one\u001b[0m\u001b[0;34m,\u001b[0m \u001b[0mset_key_two\u001b[0m\u001b[0;34m,\u001b[0m \u001b[0mset_type\u001b[0m\u001b[0;34m,\u001b[0m \u001b[0;34m'intersection/'\u001b[0m\u001b[0;34m)\u001b[0m\u001b[0;34m\u001b[0m\u001b[0;34m\u001b[0m\u001b[0m\n\u001b[0m\u001b[1;32m     38\u001b[0m \u001b[0;34m\u001b[0m\u001b[0m\n\u001b[1;32m     39\u001b[0m     def set_union(\n",
      "\u001b[0;32m/opt/anaconda3/lib/python3.7/site-packages/hubmap_api_py_client/internal.py\u001b[0m in \u001b[0;36m_operation\u001b[0;34m(self, set_key_one, set_key_two, set_type, path)\u001b[0m\n\u001b[1;32m     53\u001b[0m             \u001b[0;34m\"set_type\"\u001b[0m\u001b[0;34m:\u001b[0m \u001b[0mset_type\u001b[0m\u001b[0;34m\u001b[0m\u001b[0;34m\u001b[0m\u001b[0m\n\u001b[1;32m     54\u001b[0m         }\n\u001b[0;32m---> 55\u001b[0;31m         \u001b[0;32mreturn\u001b[0m \u001b[0mself\u001b[0m\u001b[0;34m.\u001b[0m\u001b[0m_post_and_get_handle\u001b[0m\u001b[0;34m(\u001b[0m\u001b[0mrequest_url\u001b[0m\u001b[0;34m,\u001b[0m \u001b[0mrequest_dict\u001b[0m\u001b[0;34m)\u001b[0m\u001b[0;34m\u001b[0m\u001b[0;34m\u001b[0m\u001b[0m\n\u001b[0m\u001b[1;32m     56\u001b[0m \u001b[0;34m\u001b[0m\u001b[0m\n\u001b[1;32m     57\u001b[0m     \u001b[0;31m# These functions take a query set token and return an evaluated query_set:\u001b[0m\u001b[0;34m\u001b[0m\u001b[0;34m\u001b[0m\u001b[0;34m\u001b[0m\u001b[0m\n",
      "\u001b[0;32m/opt/anaconda3/lib/python3.7/site-packages/hubmap_api_py_client/internal.py\u001b[0m in \u001b[0;36m_post_and_get_handle\u001b[0;34m(self, url, request_dict)\u001b[0m\n\u001b[1;32m    108\u001b[0m \u001b[0;34m\u001b[0m\u001b[0m\n\u001b[1;32m    109\u001b[0m     \u001b[0;32mdef\u001b[0m \u001b[0m_post_and_get_handle\u001b[0m\u001b[0;34m(\u001b[0m\u001b[0mself\u001b[0m\u001b[0;34m,\u001b[0m \u001b[0murl\u001b[0m\u001b[0;34m,\u001b[0m \u001b[0mrequest_dict\u001b[0m\u001b[0;34m)\u001b[0m\u001b[0;34m:\u001b[0m\u001b[0;34m\u001b[0m\u001b[0;34m\u001b[0m\u001b[0m\n\u001b[0;32m--> 110\u001b[0;31m         \u001b[0mresponse\u001b[0m \u001b[0;34m=\u001b[0m \u001b[0mself\u001b[0m\u001b[0;34m.\u001b[0m\u001b[0m_post_and_get_results\u001b[0m\u001b[0;34m(\u001b[0m\u001b[0murl\u001b[0m\u001b[0;34m,\u001b[0m \u001b[0mrequest_dict\u001b[0m\u001b[0;34m)\u001b[0m\u001b[0;34m\u001b[0m\u001b[0;34m\u001b[0m\u001b[0m\n\u001b[0m\u001b[1;32m    111\u001b[0m         \u001b[0;32mreturn\u001b[0m \u001b[0mresponse\u001b[0m\u001b[0;34m[\u001b[0m\u001b[0;36m0\u001b[0m\u001b[0;34m]\u001b[0m\u001b[0;34m[\u001b[0m\u001b[0mHANDLE\u001b[0m\u001b[0;34m]\u001b[0m\u001b[0;34m\u001b[0m\u001b[0;34m\u001b[0m\u001b[0m\n",
      "\u001b[0;32m/opt/anaconda3/lib/python3.7/site-packages/hubmap_api_py_client/internal.py\u001b[0m in \u001b[0;36m_post_and_get_results\u001b[0;34m(self, url, request_dict)\u001b[0m\n\u001b[1;32m    104\u001b[0m         \u001b[0mresponse_json\u001b[0m \u001b[0;34m=\u001b[0m \u001b[0mresponse\u001b[0m\u001b[0;34m.\u001b[0m\u001b[0mjson\u001b[0m\u001b[0;34m(\u001b[0m\u001b[0;34m)\u001b[0m\u001b[0;34m\u001b[0m\u001b[0;34m\u001b[0m\u001b[0m\n\u001b[1;32m    105\u001b[0m         \u001b[0;32mif\u001b[0m \u001b[0;34m'results'\u001b[0m \u001b[0;32mnot\u001b[0m \u001b[0;32min\u001b[0m \u001b[0mresponse_json\u001b[0m\u001b[0;34m:\u001b[0m\u001b[0;34m\u001b[0m\u001b[0;34m\u001b[0m\u001b[0m\n\u001b[0;32m--> 106\u001b[0;31m             \u001b[0;32mraise\u001b[0m \u001b[0mClientError\u001b[0m\u001b[0;34m(\u001b[0m\u001b[0mresponse_json\u001b[0m\u001b[0;34m[\u001b[0m\u001b[0;34m'message'\u001b[0m\u001b[0;34m]\u001b[0m\u001b[0;34m)\u001b[0m\u001b[0;34m\u001b[0m\u001b[0;34m\u001b[0m\u001b[0m\n\u001b[0m\u001b[1;32m    107\u001b[0m         \u001b[0;32mreturn\u001b[0m \u001b[0mresponse_json\u001b[0m\u001b[0;34m[\u001b[0m\u001b[0;34m'results'\u001b[0m\u001b[0;34m]\u001b[0m\u001b[0;34m\u001b[0m\u001b[0;34m\u001b[0m\u001b[0m\n\u001b[1;32m    108\u001b[0m \u001b[0;34m\u001b[0m\u001b[0m\n",
      "\u001b[0;31mClientError\u001b[0m: unsupported operand type(s) for &: 'tuple' and 'tuple'"
     ]
    }
   ],
   "source": [
    "dataset_a_uuid = client.select_datasets().get_list()[0]['uuid']\n",
    "dataset_b_uuid = client.select_datasets().get_list()[1]['uuid']\n",
    "print(dataset_a_uuid, dataset_b_uuid)\n",
    "\n",
    "cells_in_datasets = client.select_cells(where='dataset', has=[dataset_a_uuid, dataset_b_uuid])\n",
    "print(cells_in_datasets)\n",
    "\n",
    "# Errors: \"unsupported operand type(s)\"\n",
    "cells_with_gene_in_datasets = cells_with_gene & cells_in_datasets"
   ]
  },
  {
   "cell_type": "code",
   "execution_count": 37,
   "metadata": {},
   "outputs": [],
   "source": [
    "dataset_a_uuid = client.select_datasets().get_list()[0]['uuid']\n",
    "dataset_b_uuid = client.select_datasets().get_list()[1]['uuid']\n",
    "cells_in_a_len = len(client.select_cells(where='dataset', has=[dataset_a_uuid]))\n",
    "cells_in_b_len = len(client.select_cells(where='dataset', has=[dataset_b_uuid]))\n",
    "cells_in_datasets = client.select_cells(where='dataset', has=[dataset_a_uuid, dataset_b_uuid])\n",
    "cells_in_datasets_len = len(cells_in_datasets)\n",
    "assert cells_in_datasets_len > 0\n",
    "assert cells_in_datasets_len == cells_in_a_len + cells_in_b_len"
   ]
  },
  {
   "cell_type": "code",
   "execution_count": 38,
   "metadata": {},
   "outputs": [
    {
     "ename": "ClientError",
     "evalue": "unsupported operand type(s) for &: 'tuple' and 'tuple'",
     "output_type": "error",
     "traceback": [
      "\u001b[0;31m---------------------------------------------------------------------------\u001b[0m",
      "\u001b[0;31mClientError\u001b[0m                               Traceback (most recent call last)",
      "\u001b[0;32m<ipython-input-38-6d8da2163bec>\u001b[0m in \u001b[0;36m<module>\u001b[0;34m\u001b[0m\n\u001b[0;32m----> 1\u001b[0;31m \u001b[0mcells_with_gene_in_datasets\u001b[0m \u001b[0;34m=\u001b[0m \u001b[0mcells_with_gene\u001b[0m \u001b[0;34m&\u001b[0m \u001b[0mcells_in_datasets\u001b[0m\u001b[0;34m\u001b[0m\u001b[0;34m\u001b[0m\u001b[0m\n\u001b[0m\u001b[1;32m      2\u001b[0m \u001b[0;32massert\u001b[0m \u001b[0mlen\u001b[0m\u001b[0;34m(\u001b[0m\u001b[0mcells_with_gene_in_datasets\u001b[0m\u001b[0;34m)\u001b[0m \u001b[0;34m>\u001b[0m \u001b[0;36m0\u001b[0m\u001b[0;34m\u001b[0m\u001b[0;34m\u001b[0m\u001b[0m\n",
      "\u001b[0;32m/opt/anaconda3/lib/python3.7/site-packages/hubmap_api_py_client/external.py\u001b[0m in \u001b[0;36m__and__\u001b[0;34m(self, other_set)\u001b[0m\n\u001b[1;32m     65\u001b[0m \u001b[0;34m\u001b[0m\u001b[0m\n\u001b[1;32m     66\u001b[0m     \u001b[0;32mdef\u001b[0m \u001b[0m__and__\u001b[0m\u001b[0;34m(\u001b[0m\u001b[0mself\u001b[0m\u001b[0;34m,\u001b[0m \u001b[0mother_set\u001b[0m\u001b[0;34m)\u001b[0m\u001b[0;34m:\u001b[0m\u001b[0;34m\u001b[0m\u001b[0;34m\u001b[0m\u001b[0m\n\u001b[0;32m---> 67\u001b[0;31m         \u001b[0;32mreturn\u001b[0m \u001b[0mself\u001b[0m\u001b[0;34m.\u001b[0m\u001b[0m_operation\u001b[0m\u001b[0;34m(\u001b[0m\u001b[0mother_set\u001b[0m\u001b[0;34m,\u001b[0m \u001b[0mself\u001b[0m\u001b[0;34m.\u001b[0m\u001b[0mclient\u001b[0m\u001b[0;34m.\u001b[0m\u001b[0mset_intersection\u001b[0m\u001b[0;34m)\u001b[0m\u001b[0;34m\u001b[0m\u001b[0;34m\u001b[0m\u001b[0m\n\u001b[0m\u001b[1;32m     68\u001b[0m \u001b[0;34m\u001b[0m\u001b[0m\n\u001b[1;32m     69\u001b[0m     \u001b[0;32mdef\u001b[0m \u001b[0m__sub__\u001b[0m\u001b[0;34m(\u001b[0m\u001b[0mself\u001b[0m\u001b[0;34m,\u001b[0m \u001b[0mother_set\u001b[0m\u001b[0;34m)\u001b[0m\u001b[0;34m:\u001b[0m\u001b[0;34m\u001b[0m\u001b[0;34m\u001b[0m\u001b[0m\n",
      "\u001b[0;32m/opt/anaconda3/lib/python3.7/site-packages/hubmap_api_py_client/external.py\u001b[0m in \u001b[0;36m_operation\u001b[0;34m(self, other_set, method)\u001b[0m\n\u001b[1;32m     71\u001b[0m \u001b[0;34m\u001b[0m\u001b[0m\n\u001b[1;32m     72\u001b[0m     \u001b[0;32mdef\u001b[0m \u001b[0m_operation\u001b[0m\u001b[0;34m(\u001b[0m\u001b[0mself\u001b[0m\u001b[0;34m,\u001b[0m \u001b[0mother_set\u001b[0m\u001b[0;34m,\u001b[0m \u001b[0mmethod\u001b[0m\u001b[0;34m)\u001b[0m\u001b[0;34m:\u001b[0m\u001b[0;34m\u001b[0m\u001b[0;34m\u001b[0m\u001b[0m\n\u001b[0;32m---> 73\u001b[0;31m         \u001b[0mnew_handle\u001b[0m \u001b[0;34m=\u001b[0m \u001b[0mmethod\u001b[0m\u001b[0;34m(\u001b[0m\u001b[0mself\u001b[0m\u001b[0;34m.\u001b[0m\u001b[0mhandle\u001b[0m\u001b[0;34m,\u001b[0m \u001b[0mother_set\u001b[0m\u001b[0;34m.\u001b[0m\u001b[0mhandle\u001b[0m\u001b[0;34m,\u001b[0m \u001b[0mself\u001b[0m\u001b[0;34m.\u001b[0m\u001b[0moutput_type\u001b[0m\u001b[0;34m)\u001b[0m\u001b[0;34m\u001b[0m\u001b[0;34m\u001b[0m\u001b[0m\n\u001b[0m\u001b[1;32m     74\u001b[0m         return ResultsSet(\n\u001b[1;32m     75\u001b[0m             \u001b[0mself\u001b[0m\u001b[0;34m.\u001b[0m\u001b[0mclient\u001b[0m\u001b[0;34m,\u001b[0m \u001b[0mnew_handle\u001b[0m\u001b[0;34m,\u001b[0m\u001b[0;34m\u001b[0m\u001b[0;34m\u001b[0m\u001b[0m\n",
      "\u001b[0;32m/opt/anaconda3/lib/python3.7/site-packages/hubmap_api_py_client/internal.py\u001b[0m in \u001b[0;36mset_intersection\u001b[0;34m(self, set_key_one, set_key_two, set_type)\u001b[0m\n\u001b[1;32m     35\u001b[0m     def set_intersection(\n\u001b[1;32m     36\u001b[0m             self, set_key_one: str, set_key_two: str, set_type: str) -> str:\n\u001b[0;32m---> 37\u001b[0;31m         \u001b[0;32mreturn\u001b[0m \u001b[0mself\u001b[0m\u001b[0;34m.\u001b[0m\u001b[0m_operation\u001b[0m\u001b[0;34m(\u001b[0m\u001b[0mset_key_one\u001b[0m\u001b[0;34m,\u001b[0m \u001b[0mset_key_two\u001b[0m\u001b[0;34m,\u001b[0m \u001b[0mset_type\u001b[0m\u001b[0;34m,\u001b[0m \u001b[0;34m'intersection/'\u001b[0m\u001b[0;34m)\u001b[0m\u001b[0;34m\u001b[0m\u001b[0;34m\u001b[0m\u001b[0m\n\u001b[0m\u001b[1;32m     38\u001b[0m \u001b[0;34m\u001b[0m\u001b[0m\n\u001b[1;32m     39\u001b[0m     def set_union(\n",
      "\u001b[0;32m/opt/anaconda3/lib/python3.7/site-packages/hubmap_api_py_client/internal.py\u001b[0m in \u001b[0;36m_operation\u001b[0;34m(self, set_key_one, set_key_two, set_type, path)\u001b[0m\n\u001b[1;32m     53\u001b[0m             \u001b[0;34m\"set_type\"\u001b[0m\u001b[0;34m:\u001b[0m \u001b[0mset_type\u001b[0m\u001b[0;34m\u001b[0m\u001b[0;34m\u001b[0m\u001b[0m\n\u001b[1;32m     54\u001b[0m         }\n\u001b[0;32m---> 55\u001b[0;31m         \u001b[0;32mreturn\u001b[0m \u001b[0mself\u001b[0m\u001b[0;34m.\u001b[0m\u001b[0m_post_and_get_handle\u001b[0m\u001b[0;34m(\u001b[0m\u001b[0mrequest_url\u001b[0m\u001b[0;34m,\u001b[0m \u001b[0mrequest_dict\u001b[0m\u001b[0;34m)\u001b[0m\u001b[0;34m\u001b[0m\u001b[0;34m\u001b[0m\u001b[0m\n\u001b[0m\u001b[1;32m     56\u001b[0m \u001b[0;34m\u001b[0m\u001b[0m\n\u001b[1;32m     57\u001b[0m     \u001b[0;31m# These functions take a query set token and return an evaluated query_set:\u001b[0m\u001b[0;34m\u001b[0m\u001b[0;34m\u001b[0m\u001b[0;34m\u001b[0m\u001b[0m\n",
      "\u001b[0;32m/opt/anaconda3/lib/python3.7/site-packages/hubmap_api_py_client/internal.py\u001b[0m in \u001b[0;36m_post_and_get_handle\u001b[0;34m(self, url, request_dict)\u001b[0m\n\u001b[1;32m    108\u001b[0m \u001b[0;34m\u001b[0m\u001b[0m\n\u001b[1;32m    109\u001b[0m     \u001b[0;32mdef\u001b[0m \u001b[0m_post_and_get_handle\u001b[0m\u001b[0;34m(\u001b[0m\u001b[0mself\u001b[0m\u001b[0;34m,\u001b[0m \u001b[0murl\u001b[0m\u001b[0;34m,\u001b[0m \u001b[0mrequest_dict\u001b[0m\u001b[0;34m)\u001b[0m\u001b[0;34m:\u001b[0m\u001b[0;34m\u001b[0m\u001b[0;34m\u001b[0m\u001b[0m\n\u001b[0;32m--> 110\u001b[0;31m         \u001b[0mresponse\u001b[0m \u001b[0;34m=\u001b[0m \u001b[0mself\u001b[0m\u001b[0;34m.\u001b[0m\u001b[0m_post_and_get_results\u001b[0m\u001b[0;34m(\u001b[0m\u001b[0murl\u001b[0m\u001b[0;34m,\u001b[0m \u001b[0mrequest_dict\u001b[0m\u001b[0;34m)\u001b[0m\u001b[0;34m\u001b[0m\u001b[0;34m\u001b[0m\u001b[0m\n\u001b[0m\u001b[1;32m    111\u001b[0m         \u001b[0;32mreturn\u001b[0m \u001b[0mresponse\u001b[0m\u001b[0;34m[\u001b[0m\u001b[0;36m0\u001b[0m\u001b[0;34m]\u001b[0m\u001b[0;34m[\u001b[0m\u001b[0mHANDLE\u001b[0m\u001b[0;34m]\u001b[0m\u001b[0;34m\u001b[0m\u001b[0;34m\u001b[0m\u001b[0m\n",
      "\u001b[0;32m/opt/anaconda3/lib/python3.7/site-packages/hubmap_api_py_client/internal.py\u001b[0m in \u001b[0;36m_post_and_get_results\u001b[0;34m(self, url, request_dict)\u001b[0m\n\u001b[1;32m    104\u001b[0m         \u001b[0mresponse_json\u001b[0m \u001b[0;34m=\u001b[0m \u001b[0mresponse\u001b[0m\u001b[0;34m.\u001b[0m\u001b[0mjson\u001b[0m\u001b[0;34m(\u001b[0m\u001b[0;34m)\u001b[0m\u001b[0;34m\u001b[0m\u001b[0;34m\u001b[0m\u001b[0m\n\u001b[1;32m    105\u001b[0m         \u001b[0;32mif\u001b[0m \u001b[0;34m'results'\u001b[0m \u001b[0;32mnot\u001b[0m \u001b[0;32min\u001b[0m \u001b[0mresponse_json\u001b[0m\u001b[0;34m:\u001b[0m\u001b[0;34m\u001b[0m\u001b[0;34m\u001b[0m\u001b[0m\n\u001b[0;32m--> 106\u001b[0;31m             \u001b[0;32mraise\u001b[0m \u001b[0mClientError\u001b[0m\u001b[0;34m(\u001b[0m\u001b[0mresponse_json\u001b[0m\u001b[0;34m[\u001b[0m\u001b[0;34m'message'\u001b[0m\u001b[0;34m]\u001b[0m\u001b[0;34m)\u001b[0m\u001b[0;34m\u001b[0m\u001b[0;34m\u001b[0m\u001b[0m\n\u001b[0m\u001b[1;32m    107\u001b[0m         \u001b[0;32mreturn\u001b[0m \u001b[0mresponse_json\u001b[0m\u001b[0;34m[\u001b[0m\u001b[0;34m'results'\u001b[0m\u001b[0;34m]\u001b[0m\u001b[0;34m\u001b[0m\u001b[0;34m\u001b[0m\u001b[0m\n\u001b[1;32m    108\u001b[0m \u001b[0;34m\u001b[0m\u001b[0m\n",
      "\u001b[0;31mClientError\u001b[0m: unsupported operand type(s) for &: 'tuple' and 'tuple'"
     ]
    }
   ],
   "source": [
    "cells_with_gene_in_datasets = cells_with_gene & cells_in_datasets\n",
    "assert len(cells_with_gene_in_datasets) > 0"
   ]
  },
  {
   "cell_type": "markdown",
   "metadata": {},
   "source": [
    "## Entity API\n",
    "\n",
    "**Maintainer**: PSC\n",
    "\n",
    "**Description**: Wrapper around Neo4J database-of-record. It has methods for traversing the provenance graph, and can return the details for individual entities; It does not provide search functionality.\n",
    "\n",
    "**Doc Style**: Smart API; Interactive\n",
    "\n",
    "**Doc URL**: https://smart-api.info/ui/0065e419668f3336a40d1f5ab89c6ba3\n",
    "\n",
    "**Source URL**: https://github.com/hubmapconsortium/entity-api/"
   ]
  },
  {
   "cell_type": "code",
   "execution_count": 21,
   "metadata": {},
   "outputs": [
    {
     "data": {
      "text/plain": [
       "['Collection', 'Dataset', 'Donor', 'Sample', 'Upload']"
      ]
     },
     "execution_count": 21,
     "metadata": {},
     "output_type": "execute_result"
    }
   ],
   "source": [
    "import requests\n",
    "\n",
    "entity_api_url = 'https://entity.api.hubmapconsortium.org'\n",
    "\n",
    "requests.get(f'{entity_api_url}/entity-types').json()"
   ]
  },
  {
   "cell_type": "code",
   "execution_count": 25,
   "metadata": {},
   "outputs": [
    {
     "data": {
      "text/plain": [
       "'snATAC-seq (SNARE-seq2) [SnapATAC] data from the lung (right) of a 37.0-year-old black or african american male'"
      ]
     },
     "execution_count": 25,
     "metadata": {},
     "output_type": "execute_result"
    }
   ],
   "source": [
    "id = 'HBM668.QFDW.774' # UUID also supported\n",
    "entity = requests.get(f'{entity_api_url}/entities/{id}').json()\n",
    "entity['title']"
   ]
  },
  {
   "cell_type": "code",
   "execution_count": 28,
   "metadata": {},
   "outputs": [
    {
     "data": {
      "text/plain": [
       "[('Dataset', '4bc9b335040544bc76d87acb189e594a'),\n",
       " ('Sample', '27997171ea74885abbd91a99cac360d9'),\n",
       " ('Sample', '6e5e5be224d88f38aa390d0c389839c7'),\n",
       " ('Sample', '0e1c2d399477b244ac006eb58918ec0c'),\n",
       " ('Donor', '4397fcd072ac96299992b47da1dbae64'),\n",
       " ('Dataset', '18f644163d1114f46dc67cc75f0a8edd'),\n",
       " ('Dataset', 'c277864db8e229bb4336428b5e1e096d'),\n",
       " ('Dataset', 'b94df37c7a261274840750d994bc42a9')]"
      ]
     },
     "execution_count": 28,
     "metadata": {},
     "output_type": "execute_result"
    }
   ],
   "source": [
    "ancestors = requests.get(f'{entity_api_url}/ancestors/{id}').json()\n",
    "[(a['entity_type'], a['uuid']) for a in ancestors]"
   ]
  },
  {
   "cell_type": "markdown",
   "metadata": {},
   "source": [
    "## CCF API\n",
    "\n",
    "**AKA**:\n",
    "\n",
    "**Maintainer**: IU\n",
    "\n",
    "**Description**: List the reference organ models, and relates then to the physical organ entities\n",
    "\n",
    "**Doc Style**: Stoplight API docs; Interactive\n",
    "\n",
    "**Doc URL**: https://ccf-api.hubmapconsortium.org/#/\n",
    "\n",
    "**Source URL**: https://github.com/hubmapconsortium/ccf-ui/tree/main/projects/ccf-api"
   ]
  },
  {
   "cell_type": "code",
   "execution_count": 40,
   "metadata": {},
   "outputs": [
    {
     "data": {
      "text/plain": [
       "['10x', 'AF', 'CODEX', 'IMC', 'LC', 'MALDI', 'OTHER', 'PAS']"
      ]
     },
     "execution_count": 40,
     "metadata": {},
     "output_type": "execute_result"
    }
   ],
   "source": [
    "import requests\n",
    "\n",
    "ccf_api_url = 'https://ccf-api.hubmapconsortium.org/v1'\n",
    "\n",
    "requests.get(f'{ccf_api_url}/technology-names').json()"
   ]
  },
  {
   "cell_type": "code",
   "execution_count": 42,
   "metadata": {},
   "outputs": [],
   "source": [
    "import urllib\n",
    "\n",
    "query = {'age-range': '20,40', 'technologies': '10x,AF'}\n",
    "url_query = urllib.parse.urlencode(query)\n",
    "response = requests.get(f'{ccf_api_url}/tissue-blocks').json()"
   ]
  },
  {
   "cell_type": "code",
   "execution_count": 50,
   "metadata": {},
   "outputs": [
    {
     "data": {
      "text/plain": [
       "['https://gtexportal.org/home/eqtls/tissue?tissueName=Colon_Sigmoid#FTissueBlocks',\n",
       " 'https://gtexportal.org/home/eqtls/tissue?tissueName=Colon_Sigmoid#MTissueBlocks',\n",
       " 'https://gtexportal.org/home/eqtls/tissue?tissueName=Colon_Transverse#FTissueBlocks']"
      ]
     },
     "execution_count": 50,
     "metadata": {},
     "output_type": "execute_result"
    }
   ],
   "source": [
    "[r['@id'] for r in response[:3]]"
   ]
  },
  {
   "cell_type": "markdown",
   "metadata": {},
   "source": [
    "## HuBMAP Commons\n",
    "\n",
    "**AKA**:\n",
    "\n",
    "**Maintainer**: PSC\n",
    "\n",
    "**Description**: Internal utilities, but it also contains the constants used across the APIs... possibly of interest to external users?\n",
    "\n",
    "**Backing API**: n/a\n",
    "\n",
    "**Doc Style**: README\n",
    "\n",
    "**Doc URL**: https://github.com/hubmapconsortium/commons\n",
    "\n",
    "**Source URL**: https://github.com/hubmapconsortium/commons"
   ]
  },
  {
   "cell_type": "code",
   "execution_count": 1,
   "metadata": {},
   "outputs": [
    {
     "name": "stdout",
     "output_type": "stream",
     "text": [
      "Collecting hubmap-commons\n",
      "  Using cached https://files.pythonhosted.org/packages/0b/15/1d3d930baf7544acd71fe07e069ca98b20b14982c1e1ecf22c409fef41b8/hubmap_commons-2.0.13-py3-none-any.whl\n",
      "Requirement already satisfied: globus-sdk>=1.9.0 in /opt/anaconda3/lib/python3.7/site-packages (from hubmap-commons) (2.0.1)\n",
      "Collecting neo4j>=4.2.1 (from hubmap-commons)\n",
      "Requirement already satisfied: prov>=1.5.1 in /opt/anaconda3/lib/python3.7/site-packages (from hubmap-commons) (2.0.0)\n",
      "Requirement already satisfied: pytz>=2021.1 in /opt/anaconda3/lib/python3.7/site-packages (from hubmap-commons) (2021.3)\n",
      "Requirement already satisfied: requests>=2.22.0 in /opt/anaconda3/lib/python3.7/site-packages (from hubmap-commons) (2.25.1)\n",
      "Requirement already satisfied: jsonschema>=3.2.0 in /opt/anaconda3/lib/python3.7/site-packages (from hubmap-commons) (3.2.0)\n",
      "Requirement already satisfied: Flask>=1.1.2 in /opt/anaconda3/lib/python3.7/site-packages (from hubmap-commons) (1.1.2)\n",
      "Collecting cachetools>=4.2.1 (from hubmap-commons)\n",
      "  Using cached https://files.pythonhosted.org/packages/19/99/ace1769546388976b45e93445bb04c6df95e96363f03fbb56f916da5ebde/cachetools-5.0.0-py3-none-any.whl\n",
      "Collecting property>=2.2 (from hubmap-commons)\n",
      "Requirement already satisfied: jsonref>=0.2 in /opt/anaconda3/lib/python3.7/site-packages (from hubmap-commons) (0.2)\n",
      "Collecting PyYAML>=5.3.1 (from hubmap-commons)\n",
      "  Using cached https://files.pythonhosted.org/packages/9d/f6/7e91fbb58c9ee528759aea5892e062cccb426720c5830ddcce92eba00ff1/PyYAML-6.0-cp37-cp37m-macosx_10_9_x86_64.whl\n",
      "Requirement already satisfied: pyjwt[crypto]<2.0.0,>=1.5.3 in /opt/anaconda3/lib/python3.7/site-packages (from globus-sdk>=1.9.0->hubmap-commons) (1.7.1)\n",
      "Requirement already satisfied: networkx>=2.0 in /opt/anaconda3/lib/python3.7/site-packages (from prov>=1.5.1->hubmap-commons) (2.3)\n",
      "Requirement already satisfied: python-dateutil>=2.2 in /opt/anaconda3/lib/python3.7/site-packages (from prov>=1.5.1->hubmap-commons) (2.8.0)\n",
      "Requirement already satisfied: lxml>=3.3.5 in /opt/anaconda3/lib/python3.7/site-packages (from prov>=1.5.1->hubmap-commons) (4.4.1)\n",
      "Requirement already satisfied: rdflib>=4.2.1 in /opt/anaconda3/lib/python3.7/site-packages (from prov>=1.5.1->hubmap-commons) (6.1.1)\n",
      "Requirement already satisfied: idna<3,>=2.5 in /opt/anaconda3/lib/python3.7/site-packages (from requests>=2.22.0->hubmap-commons) (2.8)\n",
      "Requirement already satisfied: certifi>=2017.4.17 in /opt/anaconda3/lib/python3.7/site-packages (from requests>=2.22.0->hubmap-commons) (2019.9.11)\n",
      "Requirement already satisfied: urllib3<1.27,>=1.21.1 in /opt/anaconda3/lib/python3.7/site-packages (from requests>=2.22.0->hubmap-commons) (1.26.5)\n",
      "Requirement already satisfied: chardet<5,>=3.0.2 in /opt/anaconda3/lib/python3.7/site-packages (from requests>=2.22.0->hubmap-commons) (3.0.4)\n",
      "Requirement already satisfied: importlib-metadata; python_version < \"3.8\" in /opt/anaconda3/lib/python3.7/site-packages (from jsonschema>=3.2.0->hubmap-commons) (0.23)\n",
      "Requirement already satisfied: pyrsistent>=0.14.0 in /opt/anaconda3/lib/python3.7/site-packages (from jsonschema>=3.2.0->hubmap-commons) (0.15.4)\n",
      "Requirement already satisfied: six>=1.11.0 in /opt/anaconda3/lib/python3.7/site-packages (from jsonschema>=3.2.0->hubmap-commons) (1.12.0)\n",
      "Requirement already satisfied: attrs>=17.4.0 in /opt/anaconda3/lib/python3.7/site-packages (from jsonschema>=3.2.0->hubmap-commons) (19.2.0)\n",
      "Requirement already satisfied: setuptools in /opt/anaconda3/lib/python3.7/site-packages (from jsonschema>=3.2.0->hubmap-commons) (41.4.0)\n",
      "Requirement already satisfied: Werkzeug>=0.15 in /opt/anaconda3/lib/python3.7/site-packages (from Flask>=1.1.2->hubmap-commons) (0.16.0)\n",
      "Requirement already satisfied: itsdangerous>=0.24 in /opt/anaconda3/lib/python3.7/site-packages (from Flask>=1.1.2->hubmap-commons) (1.1.0)\n",
      "Requirement already satisfied: Jinja2>=2.10.1 in /opt/anaconda3/lib/python3.7/site-packages (from Flask>=1.1.2->hubmap-commons) (2.10.3)\n",
      "Requirement already satisfied: click>=5.1 in /opt/anaconda3/lib/python3.7/site-packages (from Flask>=1.1.2->hubmap-commons) (7.0)\n",
      "Requirement already satisfied: cryptography>=1.4; extra == \"crypto\" in /opt/anaconda3/lib/python3.7/site-packages (from pyjwt[crypto]<2.0.0,>=1.5.3->globus-sdk>=1.9.0->hubmap-commons) (2.7)\n",
      "Requirement already satisfied: decorator>=4.3.0 in /opt/anaconda3/lib/python3.7/site-packages (from networkx>=2.0->prov>=1.5.1->hubmap-commons) (4.4.0)\n",
      "Requirement already satisfied: pyparsing in /opt/anaconda3/lib/python3.7/site-packages (from rdflib>=4.2.1->prov>=1.5.1->hubmap-commons) (2.4.2)\n",
      "Requirement already satisfied: isodate in /opt/anaconda3/lib/python3.7/site-packages (from rdflib>=4.2.1->prov>=1.5.1->hubmap-commons) (0.6.0)\n",
      "Requirement already satisfied: zipp>=0.5 in /opt/anaconda3/lib/python3.7/site-packages (from importlib-metadata; python_version < \"3.8\"->jsonschema>=3.2.0->hubmap-commons) (0.6.0)\n",
      "Requirement already satisfied: MarkupSafe>=0.23 in /opt/anaconda3/lib/python3.7/site-packages (from Jinja2>=2.10.1->Flask>=1.1.2->hubmap-commons) (1.1.1)\n",
      "Requirement already satisfied: asn1crypto>=0.21.0 in /opt/anaconda3/lib/python3.7/site-packages (from cryptography>=1.4; extra == \"crypto\"->pyjwt[crypto]<2.0.0,>=1.5.3->globus-sdk>=1.9.0->hubmap-commons) (1.0.1)\n",
      "Requirement already satisfied: cffi!=1.11.3,>=1.8 in /opt/anaconda3/lib/python3.7/site-packages (from cryptography>=1.4; extra == \"crypto\"->pyjwt[crypto]<2.0.0,>=1.5.3->globus-sdk>=1.9.0->hubmap-commons) (1.12.3)\n",
      "Requirement already satisfied: more-itertools in /opt/anaconda3/lib/python3.7/site-packages (from zipp>=0.5->importlib-metadata; python_version < \"3.8\"->jsonschema>=3.2.0->hubmap-commons) (7.2.0)\n",
      "Requirement already satisfied: pycparser in /opt/anaconda3/lib/python3.7/site-packages (from cffi!=1.11.3,>=1.8->cryptography>=1.4; extra == \"crypto\"->pyjwt[crypto]<2.0.0,>=1.5.3->globus-sdk>=1.9.0->hubmap-commons) (2.19)\n",
      "Installing collected packages: neo4j, cachetools, property, PyYAML, hubmap-commons\n",
      "  Found existing installation: PyYAML 5.1.2\n",
      "\u001b[31mERROR: Cannot uninstall 'PyYAML'. It is a distutils installed project and thus we cannot accurately determine which files belong to it which would lead to only a partial uninstall.\u001b[0m\n",
      "Note: you may need to restart the kernel to use updated packages.\n"
     ]
    }
   ],
   "source": [
    "%pip install hubmap-commons"
   ]
  },
  {
   "cell_type": "code",
   "execution_count": null,
   "metadata": {},
   "outputs": [],
   "source": [
    "# Things to try, if we could install:\n",
    "\n",
    "from hubmap_commons.globus_groups import get_globus_groups_info\n",
    "\n",
    "get_globus_groups_info()"
   ]
  },
  {
   "cell_type": "markdown",
   "metadata": {},
   "source": [
    "## TODO: Antibody API\n",
    "\n",
    "**AKA**:\n",
    "\n",
    "**Maintainer**:\n",
    "\n",
    "**Description**:\n",
    "\n",
    "**Backing API**:\n",
    "\n",
    "**Doc Style**:\n",
    "\n",
    "**Doc URL**:\n",
    "\n",
    "**Source URL**:"
   ]
  },
  {
   "cell_type": "markdown",
   "metadata": {},
   "source": [
    "## TODO: Search API\n",
    "\n",
    "**AKA**:\n",
    "\n",
    "**Maintainer**:\n",
    "\n",
    "**Description**:\n",
    "\n",
    "**Backing API**:\n",
    "\n",
    "**Doc Style**:\n",
    "\n",
    "**Doc URL**:\n",
    "\n",
    "**Source URL**:"
   ]
  },
  {
   "cell_type": "markdown",
   "metadata": {},
   "source": [
    "## TODO: Ontology API\n",
    "\n",
    "**AKA**:\n",
    "\n",
    "**Maintainer**:\n",
    "\n",
    "**Description**:\n",
    "\n",
    "**Backing API**:\n",
    "\n",
    "**Doc Style**: SmartAPI; Interactive\n",
    "\n",
    "**Doc URL**: https://smart-api.info/ui/dea4bf91545a51b3dc415ba37e2a9e4e\n",
    "\n",
    "**Source URL**: https://github.com/hubmapconsortium/ontology-api"
   ]
  },
  {
   "cell_type": "markdown",
   "metadata": {},
   "source": [
    "## TODO: Python SDK\n",
    "\n",
    "**AKA**:\n",
    "\n",
    "**Maintainer**:\n",
    "\n",
    "**Description**: A Python interface to the various HuBMAP web services\n",
    "\n",
    "**Backing API**: multiple?\n",
    "\n",
    "**Doc Style**: README\n",
    "\n",
    "**Doc URL**: https://github.com/hubmapconsortium/python-sdk\n",
    "\n",
    "**Source URL**: https://github.com/hubmapconsortium/python-sdk"
   ]
  },
  {
   "cell_type": "markdown",
   "metadata": {},
   "source": [
    "## TODO: Command Line Transfer\n",
    "\n",
    "**AKA**: Bulk download\n",
    "\n",
    "**Maintainer**:\n",
    "\n",
    "**Description**: TODO: If it will be pip installed, then it should be easy to expose the python interface as well as the command line executable.\n",
    "\n",
    "**Backing API**:\n",
    "\n",
    "**Doc Style**: \n",
    "\n",
    "**Doc URL**: \n",
    "\n",
    "**Source URL**: https://github.com/hubmapconsortium/hubmap-clt"
   ]
  },
  {
   "cell_type": "markdown",
   "metadata": {},
   "source": [
    "## TODO: Azimuth\n",
    "\n",
    "**AKA**: \n",
    "\n",
    "**Maintainer**:\n",
    "\n",
    "**Description**: TODO: Just list the list of references? API shortcut around the Shiny UI?\n",
    "\n",
    "**Backing API**:\n",
    "\n",
    "**Doc Style**: \n",
    "\n",
    "**Doc URL**: \n",
    "\n",
    "**Source URL**:"
   ]
  },
  {
   "cell_type": "markdown",
   "metadata": {},
   "source": [
    "## TODO: ASCTB\n",
    "\n",
    "**AKA**: \n",
    "\n",
    "**Maintainer**:\n",
    "\n",
    "**Description**: TODO: Are these somehow embedded in the CCF API?\n",
    "\n",
    "**Backing API**:\n",
    "\n",
    "**Doc Style**: \n",
    "\n",
    "**Doc URL**: \n",
    "\n",
    "**Source URL**:"
   ]
  },
  {
   "cell_type": "code",
   "execution_count": null,
   "metadata": {},
   "outputs": [],
   "source": []
  }
 ],
 "metadata": {
  "kernelspec": {
   "display_name": "Python 3",
   "language": "python",
   "name": "python3"
  },
  "language_info": {
   "codemirror_mode": {
    "name": "ipython",
    "version": 3
   },
   "file_extension": ".py",
   "mimetype": "text/x-python",
   "name": "python",
   "nbconvert_exporter": "python",
   "pygments_lexer": "ipython3",
   "version": "3.7.4"
  }
 },
 "nbformat": 4,
 "nbformat_minor": 2
}
